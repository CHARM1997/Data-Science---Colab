{
  "nbformat": 4,
  "nbformat_minor": 0,
  "metadata": {
    "colab": {
      "provenance": [],
      "collapsed_sections": [],
      "toc_visible": true,
      "authorship_tag": "ABX9TyOtIbRU4GJJZORmNbZqwdka",
      "include_colab_link": true
    },
    "kernelspec": {
      "name": "python3",
      "display_name": "Python 3"
    },
    "language_info": {
      "name": "python"
    }
  },
  "cells": [
    {
      "cell_type": "markdown",
      "metadata": {
        "id": "view-in-github",
        "colab_type": "text"
      },
      "source": [
        "<a href=\"https://colab.research.google.com/github/CHARM1997/Data-Science---Colab/blob/main/Linear_Regression.ipynb\" target=\"_parent\"><img src=\"https://colab.research.google.com/assets/colab-badge.svg\" alt=\"Open In Colab\"/></a>"
      ]
    },
    {
      "cell_type": "code",
      "execution_count": 1,
      "metadata": {
        "id": "6fwl72uz-kUj"
      },
      "outputs": [],
      "source": [
        "import math\n",
        "import numpy as np\n",
        "import pandas as pd\n",
        "import matplotlib.pyplot as plt"
      ]
    },
    {
      "cell_type": "code",
      "source": [
        "train =  pd.read_csv('train.csv') #import train data set\n",
        "test = pd.read_csv('test.csv') #import test data set"
      ],
      "metadata": {
        "id": "-kHab9cnAGBX"
      },
      "execution_count": 3,
      "outputs": []
    },
    {
      "cell_type": "code",
      "source": [
        "#Drop null values\n",
        "train = train.dropna() \n",
        "test = test.dropna()"
      ],
      "metadata": {
        "id": "ksv_bKlPAdtK"
      },
      "execution_count": 4,
      "outputs": []
    },
    {
      "cell_type": "code",
      "source": [
        "train.head()"
      ],
      "metadata": {
        "colab": {
          "base_uri": "https://localhost:8080/",
          "height": 206
        },
        "id": "vMx1En6UAlLK",
        "outputId": "d9498c35-f3ec-4b18-db39-518e1c6b86d8"
      },
      "execution_count": 9,
      "outputs": [
        {
          "output_type": "execute_result",
          "data": {
            "text/plain": [
              "      x          y\n",
              "0  24.0  21.549452\n",
              "1  50.0  47.464463\n",
              "2  15.0  17.218656\n",
              "3  38.0  36.586398\n",
              "4  87.0  87.288984"
            ],
            "text/html": [
              "\n",
              "  <div id=\"df-02039fac-4849-486d-a061-3d8ce67c9fc1\">\n",
              "    <div class=\"colab-df-container\">\n",
              "      <div>\n",
              "<style scoped>\n",
              "    .dataframe tbody tr th:only-of-type {\n",
              "        vertical-align: middle;\n",
              "    }\n",
              "\n",
              "    .dataframe tbody tr th {\n",
              "        vertical-align: top;\n",
              "    }\n",
              "\n",
              "    .dataframe thead th {\n",
              "        text-align: right;\n",
              "    }\n",
              "</style>\n",
              "<table border=\"1\" class=\"dataframe\">\n",
              "  <thead>\n",
              "    <tr style=\"text-align: right;\">\n",
              "      <th></th>\n",
              "      <th>x</th>\n",
              "      <th>y</th>\n",
              "    </tr>\n",
              "  </thead>\n",
              "  <tbody>\n",
              "    <tr>\n",
              "      <th>0</th>\n",
              "      <td>24.0</td>\n",
              "      <td>21.549452</td>\n",
              "    </tr>\n",
              "    <tr>\n",
              "      <th>1</th>\n",
              "      <td>50.0</td>\n",
              "      <td>47.464463</td>\n",
              "    </tr>\n",
              "    <tr>\n",
              "      <th>2</th>\n",
              "      <td>15.0</td>\n",
              "      <td>17.218656</td>\n",
              "    </tr>\n",
              "    <tr>\n",
              "      <th>3</th>\n",
              "      <td>38.0</td>\n",
              "      <td>36.586398</td>\n",
              "    </tr>\n",
              "    <tr>\n",
              "      <th>4</th>\n",
              "      <td>87.0</td>\n",
              "      <td>87.288984</td>\n",
              "    </tr>\n",
              "  </tbody>\n",
              "</table>\n",
              "</div>\n",
              "      <button class=\"colab-df-convert\" onclick=\"convertToInteractive('df-02039fac-4849-486d-a061-3d8ce67c9fc1')\"\n",
              "              title=\"Convert this dataframe to an interactive table.\"\n",
              "              style=\"display:none;\">\n",
              "        \n",
              "  <svg xmlns=\"http://www.w3.org/2000/svg\" height=\"24px\"viewBox=\"0 0 24 24\"\n",
              "       width=\"24px\">\n",
              "    <path d=\"M0 0h24v24H0V0z\" fill=\"none\"/>\n",
              "    <path d=\"M18.56 5.44l.94 2.06.94-2.06 2.06-.94-2.06-.94-.94-2.06-.94 2.06-2.06.94zm-11 1L8.5 8.5l.94-2.06 2.06-.94-2.06-.94L8.5 2.5l-.94 2.06-2.06.94zm10 10l.94 2.06.94-2.06 2.06-.94-2.06-.94-.94-2.06-.94 2.06-2.06.94z\"/><path d=\"M17.41 7.96l-1.37-1.37c-.4-.4-.92-.59-1.43-.59-.52 0-1.04.2-1.43.59L10.3 9.45l-7.72 7.72c-.78.78-.78 2.05 0 2.83L4 21.41c.39.39.9.59 1.41.59.51 0 1.02-.2 1.41-.59l7.78-7.78 2.81-2.81c.8-.78.8-2.07 0-2.86zM5.41 20L4 18.59l7.72-7.72 1.47 1.35L5.41 20z\"/>\n",
              "  </svg>\n",
              "      </button>\n",
              "      \n",
              "  <style>\n",
              "    .colab-df-container {\n",
              "      display:flex;\n",
              "      flex-wrap:wrap;\n",
              "      gap: 12px;\n",
              "    }\n",
              "\n",
              "    .colab-df-convert {\n",
              "      background-color: #E8F0FE;\n",
              "      border: none;\n",
              "      border-radius: 50%;\n",
              "      cursor: pointer;\n",
              "      display: none;\n",
              "      fill: #1967D2;\n",
              "      height: 32px;\n",
              "      padding: 0 0 0 0;\n",
              "      width: 32px;\n",
              "    }\n",
              "\n",
              "    .colab-df-convert:hover {\n",
              "      background-color: #E2EBFA;\n",
              "      box-shadow: 0px 1px 2px rgba(60, 64, 67, 0.3), 0px 1px 3px 1px rgba(60, 64, 67, 0.15);\n",
              "      fill: #174EA6;\n",
              "    }\n",
              "\n",
              "    [theme=dark] .colab-df-convert {\n",
              "      background-color: #3B4455;\n",
              "      fill: #D2E3FC;\n",
              "    }\n",
              "\n",
              "    [theme=dark] .colab-df-convert:hover {\n",
              "      background-color: #434B5C;\n",
              "      box-shadow: 0px 1px 3px 1px rgba(0, 0, 0, 0.15);\n",
              "      filter: drop-shadow(0px 1px 2px rgba(0, 0, 0, 0.3));\n",
              "      fill: #FFFFFF;\n",
              "    }\n",
              "  </style>\n",
              "\n",
              "      <script>\n",
              "        const buttonEl =\n",
              "          document.querySelector('#df-02039fac-4849-486d-a061-3d8ce67c9fc1 button.colab-df-convert');\n",
              "        buttonEl.style.display =\n",
              "          google.colab.kernel.accessAllowed ? 'block' : 'none';\n",
              "\n",
              "        async function convertToInteractive(key) {\n",
              "          const element = document.querySelector('#df-02039fac-4849-486d-a061-3d8ce67c9fc1');\n",
              "          const dataTable =\n",
              "            await google.colab.kernel.invokeFunction('convertToInteractive',\n",
              "                                                     [key], {});\n",
              "          if (!dataTable) return;\n",
              "\n",
              "          const docLinkHtml = 'Like what you see? Visit the ' +\n",
              "            '<a target=\"_blank\" href=https://colab.research.google.com/notebooks/data_table.ipynb>data table notebook</a>'\n",
              "            + ' to learn more about interactive tables.';\n",
              "          element.innerHTML = '';\n",
              "          dataTable['output_type'] = 'display_data';\n",
              "          await google.colab.output.renderOutput(dataTable, element);\n",
              "          const docLink = document.createElement('div');\n",
              "          docLink.innerHTML = docLinkHtml;\n",
              "          element.appendChild(docLink);\n",
              "        }\n",
              "      </script>\n",
              "    </div>\n",
              "  </div>\n",
              "  "
            ]
          },
          "metadata": {},
          "execution_count": 9
        }
      ]
    },
    {
      "cell_type": "code",
      "source": [
        "plt.scatter(train['x'], train['y'])"
      ],
      "metadata": {
        "colab": {
          "base_uri": "https://localhost:8080/",
          "height": 282
        },
        "id": "2jTicjnPA-5S",
        "outputId": "549b1025-f646-4a7c-b3ce-b6eed1a672b4"
      },
      "execution_count": 10,
      "outputs": [
        {
          "output_type": "execute_result",
          "data": {
            "text/plain": [
              "<matplotlib.collections.PathCollection at 0x7fac29cabd50>"
            ]
          },
          "metadata": {},
          "execution_count": 10
        },
        {
          "output_type": "display_data",
          "data": {
            "text/plain": [
              "<Figure size 432x288 with 1 Axes>"
            ],
            "image/png": "[encoded data removed]"
          },
          "metadata": {
            "needs_background": "light"
          }
        }
      ]
    },
    {
      "cell_type": "code",
      "source": [
        "plt.scatter(test['x'], test['y'])"
      ],
      "metadata": {
        "colab": {
          "base_uri": "https://localhost:8080/",
          "height": 282
        },
        "id": "ym-IySG2BWs5",
        "outputId": "17ceec0b-c5c0-443b-de9e-62627b04139f"
      },
      "execution_count": 11,
      "outputs": [
        {
          "output_type": "execute_result",
          "data": {
            "text/plain": [
              "<matplotlib.collections.PathCollection at 0x7fac29c31490>"
            ]
          },
          "metadata": {},
          "execution_count": 11
        },
        {
          "output_type": "display_data",
          "data": {
            "text/plain": [
              "<Figure size 432x288 with 1 Axes>"
            ],
            "image/png": "[encoded data removed]"
          },
          "metadata": {
            "needs_background": "light"
          }
        }
      ]
    },
    {
      "cell_type": "code",
      "source": [
        "#Set training data and target\n",
        "X_train = train['x'].values\n",
        "y_train = train['y'].values\n",
        "#Set testing data and target\n",
        "X_test = test['x'].values\n",
        "y_test = test['y'].values"
      ],
      "metadata": {
        "id": "VcHqH0ktBS8Z"
      },
      "execution_count": 12,
      "outputs": []
    },
    {
      "cell_type": "markdown",
      "source": [
        "**Data Preprocessing**"
      ],
      "metadata": {
        "id": "bDD8PsshBri9"
      }
    },
    {
      "cell_type": "code",
      "source": [
        "maximum = X_train.max()"
      ],
      "metadata": {
        "id": "n-D2nzfoBx0B"
      },
      "execution_count": 13,
      "outputs": []
    },
    {
      "cell_type": "code",
      "source": [
        "#Now let's scale the data\n",
        "X_train_norm = X_train / maximum\n",
        "X_test_norm = X_test / maximum"
      ],
      "metadata": {
        "id": "av8weG69B6MP"
      },
      "execution_count": 14,
      "outputs": []
    },
    {
      "cell_type": "markdown",
      "source": [
        "**Model** \n",
        "\n",
        "The model function for linear regression, which is a function that maps from x to y is represented as: fw,b(x)=wx+b\n",
        "To train a linear regression model, We want to find the best (w,b) parameters that fit our dataset.\n",
        "We'll evaluate our results using a cost function"
      ],
      "metadata": {
        "id": "2gnkHAWlC_Qb"
      }
    },
    {
      "cell_type": "markdown",
      "source": [
        "Initialize Parameters\n",
        "\n",
        "First of all we'll start by initializing our parameters (w,b)\n",
        "for the model"
      ],
      "metadata": {
        "id": "U2p7VsLSDlvn"
      }
    },
    {
      "cell_type": "code",
      "source": [
        "# for Linear Regression it is ok to initialize parameters to zero\n",
        "def initialize_parameters():\n",
        "    W = 0\n",
        "    b = 0\n",
        "    return W, b"
      ],
      "metadata": {
        "id": "xeGt9djyDspg"
      },
      "execution_count": 15,
      "outputs": []
    },
    {
      "cell_type": "markdown",
      "source": [
        "Now let's make a function to help us in prediction \n",
        "As a reminder we'll use vectorized implementations for speed up\n",
        "(Vectorization is a way to speed up mathematical operations)"
      ],
      "metadata": {
        "id": "6V_Bdka4D_9W"
      }
    },
    {
      "cell_type": "code",
      "source": [
        "def predict(X,W,b):\n",
        "    prediction = np.dot(X,W) + b\n",
        "    return prediction"
      ],
      "metadata": {
        "id": "oimGW61OEV_k"
      },
      "execution_count": 16,
      "outputs": []
    },
    {
      "cell_type": "markdown",
      "source": [
        "**Compute Cost**\n",
        "Now let's compute the cost function denoted by J where:\n",
        "\n",
        "![image.png](data:image/png;base64,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)"
      ],
      "metadata": {
        "id": "uqrCmEhAHu85"
      }
    },
    {
      "cell_type": "code",
      "source": [
        "def compute_cost(X,y,W,b):\n",
        "    m = len(X)\n",
        "    prediction = predict(X,W,b)\n",
        "    j = np.sum(np.square(np.subtract(prediction, y)))\n",
        "    j = j * 1/(2*m)\n",
        "    return j"
      ],
      "metadata": {
        "id": "XIr4f2ubIILm"
      },
      "execution_count": 17,
      "outputs": []
    },
    {
      "cell_type": "markdown",
      "source": [
        "![image.png](data:image/png;base64,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)"
      ],
      "metadata": {
        "id": "EQsvLhbcIcj8"
      }
    },
    {
      "cell_type": "code",
      "source": [
        "def compute_gradient(X,y,W,b):\n",
        "    m = len(X)\n",
        "    prediction = predict(X,W,b)\n",
        "    db = 1/m * np.sum(np.subtract(prediction,y))\n",
        "    dW =  1/m * np.sum(np.multiply(np.subtract(prediction,y),X))\n",
        "    return dW, db"
      ],
      "metadata": {
        "id": "P2E6toopIfFg"
      },
      "execution_count": 18,
      "outputs": []
    },
    {
      "cell_type": "markdown",
      "source": [
        "\n",
        "**Linear Regression Training**"
      ],
      "metadata": {
        "id": "vbxPk1eyIpBD"
      }
    },
    {
      "cell_type": "code",
      "source": [
        "def train(X, y, iterations, alpha): \n",
        "    # number of training examples\n",
        "    m = len(X)\n",
        "\n",
        "    # Initialize paramers\n",
        "    W, b = initialize_parameters()\n",
        "    for i in range(iterations):\n",
        "\n",
        "        # Calculate the gradient and update the parameters\n",
        "        dW, db = compute_gradient(X, y, W, b )  \n",
        "\n",
        "        # Update Parameters using w, b, alpha and gradient\n",
        "        W = W - alpha * dW               \n",
        "        b = b - alpha * db               \n",
        "\n",
        "\n",
        "        cost =  compute_cost(X, y, W, b)\n",
        "\n",
        "        # Print cost every at intervals 10 times or as many iterations if < 10\n",
        "        if i% math.ceil(iterations/10) == 0:\n",
        "            print(f\"Iteration {i:4}: Cost {float(cost):8.2f}   \")\n",
        "        \n",
        "    return W, b "
      ],
      "metadata": {
        "id": "O1Dr9Hk5IrBc"
      },
      "execution_count": 19,
      "outputs": []
    },
    {
      "cell_type": "markdown",
      "source": [
        "\n",
        "Now let's train the model and get our parameters"
      ],
      "metadata": {
        "id": "Uboi4n9TI0zs"
      }
    },
    {
      "cell_type": "code",
      "source": [
        "W,b = train(X_train_norm ,y_train, 20000, 0.01)\n",
        "print(\"w,b found by gradient descent:\", W, b)"
      ],
      "metadata": {
        "colab": {
          "base_uri": "https://localhost:8080/"
        },
        "id": "fMkPtUpqI5yb",
        "outputId": "0bc27b15-f4d9-4e80-f7a0-d6e582c3b012"
      },
      "execution_count": 20,
      "outputs": [
        {
          "output_type": "stream",
          "name": "stdout",
          "text": [
            "Iteration    0: Cost  1634.22   \n",
            "Iteration 2000: Cost    22.23   \n",
            "Iteration 4000: Cost     5.24   \n",
            "Iteration 6000: Cost     4.03   \n",
            "Iteration 8000: Cost     3.94   \n",
            "Iteration 10000: Cost     3.93   \n",
            "Iteration 12000: Cost     3.93   \n",
            "Iteration 14000: Cost     3.93   \n",
            "Iteration 16000: Cost     3.93   \n",
            "Iteration 18000: Cost     3.93   \n",
            "w,b found by gradient descent: 100.06549572017653 -0.10718917359583613\n"
          ]
        }
      ]
    },
    {
      "cell_type": "markdown",
      "source": [
        "\n",
        "Evaluate the results on the test set"
      ],
      "metadata": {
        "id": "G_sa217zJPjQ"
      }
    },
    {
      "cell_type": "code",
      "source": [
        "compute_cost(X_test_norm,y_test,W,b)"
      ],
      "metadata": {
        "colab": {
          "base_uri": "https://localhost:8080/"
        },
        "id": "h8cUaXpsJOba",
        "outputId": "9865f927-e407-4198-eb8c-170e82b0c613"
      },
      "execution_count": 21,
      "outputs": [
        {
          "output_type": "execute_result",
          "data": {
            "text/plain": [
              "4.716475603545984"
            ]
          },
          "metadata": {},
          "execution_count": 21
        }
      ]
    }
  ]
}